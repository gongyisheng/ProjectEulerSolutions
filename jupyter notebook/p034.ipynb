{
 "cells": [
  {
   "cell_type": "code",
   "execution_count": 1,
   "metadata": {},
   "outputs": [],
   "source": [
    "# Digit factorials\n",
    "# 145 is a curious number, as 1! + 4! + 5! = 1 + 24 + 120 = 145.\n",
    "\n",
    "# Find the sum of all numbers which are equal to the sum of the factorial of their digits.\n",
    "\n",
    "# Note: As 1! = 1 and 2! = 2 are not sums they are not included."
   ]
  },
  {
   "cell_type": "code",
   "execution_count": 23,
   "metadata": {},
   "outputs": [
    {
     "name": "stdout",
     "output_type": "stream",
     "text": [
      "40730\n"
     ]
    }
   ],
   "source": [
    "fractions = [1]\n",
    "curr = 1\n",
    "for i in range(1,10):\n",
    "    curr *= i\n",
    "    fractions.append(curr)\n",
    "ans = set()\n",
    "\n",
    "def dfs(sum, string):\n",
    "    global ans\n",
    "    if len(string)>6:\n",
    "        return 0\n",
    "    if \"\".join(sorted(str(sum))) == string and sum>2:\n",
    "        ans.add(sum)\n",
    "    for i in range(0,10):\n",
    "        nextSum = sum+fractions[i]\n",
    "        nextStr = \"\".join(sorted(string+str(i)))\n",
    "        dfs(nextSum, nextStr)\n",
    "\n",
    "dfs(0,\"\")\n",
    "print(sum(ans))"
   ]
  }
 ],
 "metadata": {
  "kernelspec": {
   "display_name": "Python 3.8.10 64-bit ('3.8.10')",
   "language": "python",
   "name": "python3"
  },
  "language_info": {
   "codemirror_mode": {
    "name": "ipython",
    "version": 3
   },
   "file_extension": ".py",
   "mimetype": "text/x-python",
   "name": "python",
   "nbconvert_exporter": "python",
   "pygments_lexer": "ipython3",
   "version": "3.8.10"
  },
  "orig_nbformat": 4,
  "vscode": {
   "interpreter": {
    "hash": "676edac1ef9988138982468f4b102c32adc20290aa5b4039e9cf4d3af73ead8b"
   }
  }
 },
 "nbformat": 4,
 "nbformat_minor": 2
}
