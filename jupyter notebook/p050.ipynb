{
 "cells": [
  {
   "cell_type": "code",
   "execution_count": null,
   "metadata": {},
   "outputs": [],
   "source": [
    "# Consecutive prime sum\n",
    "# The prime 41, can be written as the sum of six consecutive primes:\n",
    "\n",
    "# 41 = 2 + 3 + 5 + 7 + 11 + 13\n",
    "# This is the longest sum of consecutive primes that adds to a prime below one-hundred.\n",
    "\n",
    "# The longest sum of consecutive primes below one-thousand that adds to a prime, contains 21 terms, and is equal to 953.\n",
    "\n",
    "# Which prime, below one-million, can be written as the sum of the most consecutive primes?"
   ]
  },
  {
   "cell_type": "code",
   "execution_count": 12,
   "metadata": {},
   "outputs": [
    {
     "name": "stdout",
     "output_type": "stream",
     "text": [
      "997651\n"
     ]
    }
   ],
   "source": [
    "import math\n",
    "\n",
    "prime_list = [2]\n",
    "curr = 3\n",
    "limit = 1_000_000\n",
    "\n",
    "while curr < limit:\n",
    "    max_factor = int(math.sqrt(curr))\n",
    "    for factor in prime_list:\n",
    "        if factor > max_factor:\n",
    "            prime_list.append(curr)\n",
    "            break\n",
    "        elif curr % factor == 0:\n",
    "            break\n",
    "    curr = curr + 1\n",
    "\n",
    "prime_set = set(prime_list)\n",
    "ans = 0\n",
    "max_len = 0\n",
    "for i in range(len(prime_list)):\n",
    "    sum = 0\n",
    "    for j in range(i):\n",
    "        sum += prime_list[j]\n",
    "\n",
    "    if sum > limit:\n",
    "        break\n",
    "\n",
    "    for j in range(len(prime_list)-i+1):\n",
    "        if sum > limit:\n",
    "            break\n",
    "        if sum in prime_set and i > max_len:\n",
    "            ans = sum\n",
    "        if j < len(prime_list)-i:\n",
    "            sum += prime_list[j+i] - prime_list[j]\n",
    "\n",
    "print(ans)"
   ]
  }
 ],
 "metadata": {
  "kernelspec": {
   "display_name": "Python 3.8.10 64-bit ('3.8.10')",
   "language": "python",
   "name": "python3"
  },
  "language_info": {
   "codemirror_mode": {
    "name": "ipython",
    "version": 3
   },
   "file_extension": ".py",
   "mimetype": "text/x-python",
   "name": "python",
   "nbconvert_exporter": "python",
   "pygments_lexer": "ipython3",
   "version": "3.8.10"
  },
  "orig_nbformat": 4,
  "vscode": {
   "interpreter": {
    "hash": "676edac1ef9988138982468f4b102c32adc20290aa5b4039e9cf4d3af73ead8b"
   }
  }
 },
 "nbformat": 4,
 "nbformat_minor": 2
}
