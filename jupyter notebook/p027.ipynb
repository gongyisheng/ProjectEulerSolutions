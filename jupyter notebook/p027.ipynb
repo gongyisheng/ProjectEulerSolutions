{
 "cells": [
  {
   "cell_type": "code",
   "execution_count": 1,
   "metadata": {},
   "outputs": [],
   "source": [
    "# Quadratic primes\n",
    "# Euler discovered the remarkable quadratic formula: n^2 + n + 41\n",
    "\n",
    "# It turns out that the formula will produce 40 primes for the consecutive integer values 0<=n<=39. \n",
    "# However, when n=40, 40^2 + 40 + 41 is divisible by 41, and certainly when n=41 is clearly divisible by 41.\n",
    "\n",
    "# The incredible formula n^2 - 79n + 1601 was discovered, which produces 80 primes for the consecutive values 0<=n<=79. \n",
    "# The product of the coefficients, −79 and 1601, is −126479.\n",
    "\n",
    "# Considering quadratics of the form: n^2 + an + b where |a|<1000 and |b|<=1000\n",
    "# Where |n| is the modulus/absolute value of n\n",
    "# e.g. |11| = 11 and |-4| = 4\n",
    "# Find the product of the coefficients, a and b, \n",
    "# for the quadratic expression that produces the maximum number of primes for consecutive values of n, starting with n=0."
   ]
  },
  {
   "cell_type": "code",
   "execution_count": null,
   "metadata": {},
   "outputs": [],
   "source": []
  }
 ],
 "metadata": {
  "kernelspec": {
   "display_name": "Python 3.8.10 64-bit ('3.8.10')",
   "language": "python",
   "name": "python3"
  },
  "language_info": {
   "codemirror_mode": {
    "name": "ipython",
    "version": 3
   },
   "file_extension": ".py",
   "mimetype": "text/x-python",
   "name": "python",
   "nbconvert_exporter": "python",
   "pygments_lexer": "ipython3",
   "version": "3.8.10"
  },
  "orig_nbformat": 4,
  "vscode": {
   "interpreter": {
    "hash": "676edac1ef9988138982468f4b102c32adc20290aa5b4039e9cf4d3af73ead8b"
   }
  }
 },
 "nbformat": 4,
 "nbformat_minor": 2
}
