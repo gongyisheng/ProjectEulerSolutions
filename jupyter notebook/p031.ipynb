{
 "cells": [
  {
   "cell_type": "code",
   "execution_count": 1,
   "metadata": {},
   "outputs": [],
   "source": [
    "# Coin sums\n",
    "# In the United Kingdom the currency is made up of pound (£) and pence (p). There are eight coins in general circulation:\n",
    "\n",
    "# 1p, 2p, 5p, 10p, 20p, 50p, £1 (100p), and £2 (200p).\n",
    "# It is possible to make £2 in the following way:\n",
    "\n",
    "# 1×£1 + 1×50p + 2×20p + 1×5p + 1×2p + 3×1p\n",
    "\n",
    "#How many different ways can £2 be made using any number of coins?"
   ]
  },
  {
   "cell_type": "code",
   "execution_count": 5,
   "metadata": {},
   "outputs": [
    {
     "name": "stdout",
     "output_type": "stream",
     "text": [
      "73682\n"
     ]
    }
   ],
   "source": [
    "choice = [1,2,5,10,20,50,100,200]\n",
    "ans = 0\n",
    "\n",
    "def dfs(curr_list, curr_sum, index):\n",
    "    if curr_sum == 200:\n",
    "        global ans\n",
    "        ans = ans + 1\n",
    "    if curr_sum < 200:\n",
    "        for i in range(index, len(choice)):\n",
    "            curr_list[i] = curr_list[i] + 1\n",
    "            dfs(curr_list, curr_sum+choice[i], i)\n",
    "            curr_list[i] = curr_list[i] - 1\n",
    "\n",
    "curr_list = [0 for i in range(len(choice))]\n",
    "dfs(curr_list, 0, 0)\n",
    "\n",
    "print(ans)"
   ]
  }
 ],
 "metadata": {
  "kernelspec": {
   "display_name": "Python 3.8.10 64-bit ('3.8.10')",
   "language": "python",
   "name": "python3"
  },
  "language_info": {
   "codemirror_mode": {
    "name": "ipython",
    "version": 3
   },
   "file_extension": ".py",
   "mimetype": "text/x-python",
   "name": "python",
   "nbconvert_exporter": "python",
   "pygments_lexer": "ipython3",
   "version": "3.8.10"
  },
  "orig_nbformat": 4,
  "vscode": {
   "interpreter": {
    "hash": "676edac1ef9988138982468f4b102c32adc20290aa5b4039e9cf4d3af73ead8b"
   }
  }
 },
 "nbformat": 4,
 "nbformat_minor": 2
}
