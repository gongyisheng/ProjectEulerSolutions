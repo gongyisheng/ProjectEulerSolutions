{
 "cells": [
  {
   "cell_type": "code",
   "execution_count": 2,
   "metadata": {},
   "outputs": [],
   "source": [
    "# Distinct primes factors\n",
    "# The first two consecutive numbers to have two distinct prime factors are:\n",
    "\n",
    "# 14 = 2 × 7\n",
    "# 15 = 3 × 5\n",
    "\n",
    "# The first three consecutive numbers to have three distinct prime factors are:\n",
    "\n",
    "# 644 = 2² × 7 × 23\n",
    "# 645 = 3 × 5 × 43\n",
    "# 646 = 2 × 17 × 19.\n",
    "\n",
    "# Find the first four consecutive integers to have four distinct prime factors each. What is the first of these numbers?"
   ]
  },
  {
   "cell_type": "code",
   "execution_count": 15,
   "metadata": {},
   "outputs": [
    {
     "name": "stdout",
     "output_type": "stream",
     "text": [
      "134043\n"
     ]
    }
   ],
   "source": [
    "import math\n",
    "\n",
    "prime_list = [2,3]\n",
    "prime_factor_dict = {1:{}, 2:{2}, 3:{3}, 4:{2}}\n",
    "curr = 5\n",
    "ans = 5\n",
    "\n",
    "while True:\n",
    "    max_factor = int(math.sqrt(curr))\n",
    "    prime_factor = set()\n",
    "    for factor in prime_list:\n",
    "        if factor > max_factor:\n",
    "            prime_list.append(curr)\n",
    "            prime_factor.add(curr)\n",
    "            break\n",
    "        elif curr % factor == 0:\n",
    "            prime_factor.add(factor)\n",
    "            num = curr\n",
    "            while num % factor == 0:\n",
    "                num = num / factor\n",
    "            for other_factor in prime_factor_dict[int(num)]:\n",
    "                prime_factor.add(other_factor)\n",
    "            break\n",
    "    prime_factor_dict[curr] = prime_factor\n",
    "    if len(prime_factor) != 4:\n",
    "        ans = curr + 1\n",
    "    if curr - ans == 3:\n",
    "        break\n",
    "    curr = curr + 1\n",
    "\n",
    "print(ans)"
   ]
  }
 ],
 "metadata": {
  "kernelspec": {
   "display_name": "Python 3.8.10 64-bit ('3.8.10')",
   "language": "python",
   "name": "python3"
  },
  "language_info": {
   "codemirror_mode": {
    "name": "ipython",
    "version": 3
   },
   "file_extension": ".py",
   "mimetype": "text/x-python",
   "name": "python",
   "nbconvert_exporter": "python",
   "pygments_lexer": "ipython3",
   "version": "3.8.10"
  },
  "orig_nbformat": 4,
  "vscode": {
   "interpreter": {
    "hash": "676edac1ef9988138982468f4b102c32adc20290aa5b4039e9cf4d3af73ead8b"
   }
  }
 },
 "nbformat": 4,
 "nbformat_minor": 2
}
