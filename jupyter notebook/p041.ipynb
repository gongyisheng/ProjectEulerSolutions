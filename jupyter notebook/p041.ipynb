{
 "cells": [
  {
   "cell_type": "code",
   "execution_count": 1,
   "metadata": {},
   "outputs": [],
   "source": [
    "# Pandigital prime\n",
    "# We shall say that an n-digit number is pandigital if it makes use of all the digits 1 to n exactly once. \n",
    "# For example, 2143 is a 4-digit pandigital and is also prime.\n",
    "\n",
    "# What is the largest n-digit pandigital prime that exists?"
   ]
  },
  {
   "cell_type": "code",
   "execution_count": 6,
   "metadata": {},
   "outputs": [
    {
     "name": "stdout",
     "output_type": "stream",
     "text": [
      "7652413\n"
     ]
    }
   ],
   "source": [
    "# 1-9 pandigital number has digit sum = (1+9)*9/2 = 45, can't be prime because it's divisible by 3\n",
    "# 1-8 pandigital number has digit sum = (1+8)*8/2 = 36, can't be prime because it's divisible by 3\n",
    "# Start with 1-7 pandigital number\n",
    "import math\n",
    "\n",
    "prime_list = [2]\n",
    "curr = 3\n",
    "limit = 7_654_321 + 1\n",
    "\n",
    "while prime_list[-1]<limit:\n",
    "    max_factor = int(math.sqrt(curr))\n",
    "    for factor in prime_list:\n",
    "        if factor > max_factor:\n",
    "            prime_list.append(curr)\n",
    "            break\n",
    "        elif curr % factor == 0:\n",
    "            break\n",
    "    curr = curr + 1\n",
    "\n",
    "p = len(prime_list) - 1\n",
    "ans = \"\"\n",
    "while p >= 0:\n",
    "    num = str(prime_list[p])\n",
    "    standard = [str(i) for i in range(1,len(num)+1)]\n",
    "    if \"\".join(sorted(list(num))) ==  \"\".join(standard):\n",
    "        ans = num\n",
    "        break\n",
    "    p -= 1\n",
    "\n",
    "print(ans)"
   ]
  }
 ],
 "metadata": {
  "kernelspec": {
   "display_name": "Python 3.8.10 64-bit ('3.8.10')",
   "language": "python",
   "name": "python3"
  },
  "language_info": {
   "codemirror_mode": {
    "name": "ipython",
    "version": 3
   },
   "file_extension": ".py",
   "mimetype": "text/x-python",
   "name": "python",
   "nbconvert_exporter": "python",
   "pygments_lexer": "ipython3",
   "version": "3.8.10"
  },
  "orig_nbformat": 4,
  "vscode": {
   "interpreter": {
    "hash": "676edac1ef9988138982468f4b102c32adc20290aa5b4039e9cf4d3af73ead8b"
   }
  }
 },
 "nbformat": 4,
 "nbformat_minor": 2
}
