{
 "cells": [
  {
   "cell_type": "code",
   "execution_count": null,
   "metadata": {},
   "outputs": [],
   "source": [
    "# Pandigital multiples\n",
    "# Take the number 192 and multiply it by each of 1, 2, and 3:\n",
    "\n",
    "# 192 × 1 = 192\n",
    "# 192 × 2 = 384\n",
    "# 192 × 3 = 576\n",
    "# By concatenating each product we get the 1 to 9 pandigital, 192384576. \n",
    "# We will call 192384576 the concatenated product of 192 and (1,2,3)\n",
    "\n",
    "# The same can be achieved by starting with 9 and multiplying by 1, 2, 3, 4, and 5, giving the pandigital, 918273645, \n",
    "# which is the concatenated product of 9 and (1,2,3,4,5).\n",
    "\n",
    "# What is the largest 1 to 9 pandigital 9-digit number that can be formed \n",
    "# as the concatenated product of an integer with (1,2, ... , n) where n > 1?"
   ]
  },
  {
   "cell_type": "code",
   "execution_count": 15,
   "metadata": {},
   "outputs": [
    {
     "name": "stdout",
     "output_type": "stream",
     "text": [
      "932718654\n"
     ]
    }
   ],
   "source": [
    "ans = \"918273645\"\n",
    "poss = [i for i in range(92,100)] + [i for i in range(919,1000)] + [i for i in range(9183, 10000)]\n",
    "\n",
    "for i in poss:\n",
    "    j = 1\n",
    "    pm = \"\"\n",
    "    while len(pm) <= 9:\n",
    "        if len(pm) == 9 and \"\".join(sorted(pm)) == '123456789':\n",
    "            ans = max(ans, pm)\n",
    "            break\n",
    "        pm = pm + str(i*j)\n",
    "        j = j + 1\n",
    "\n",
    "print(ans)"
   ]
  }
 ],
 "metadata": {
  "kernelspec": {
   "display_name": "Python 3.8.10 64-bit ('3.8.10')",
   "language": "python",
   "name": "python3"
  },
  "language_info": {
   "codemirror_mode": {
    "name": "ipython",
    "version": 3
   },
   "file_extension": ".py",
   "mimetype": "text/x-python",
   "name": "python",
   "nbconvert_exporter": "python",
   "pygments_lexer": "ipython3",
   "version": "3.8.10"
  },
  "orig_nbformat": 4,
  "vscode": {
   "interpreter": {
    "hash": "676edac1ef9988138982468f4b102c32adc20290aa5b4039e9cf4d3af73ead8b"
   }
  }
 },
 "nbformat": 4,
 "nbformat_minor": 2
}
