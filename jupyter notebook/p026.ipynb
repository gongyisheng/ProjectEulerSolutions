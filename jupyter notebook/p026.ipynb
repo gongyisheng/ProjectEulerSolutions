{
 "cells": [
  {
   "cell_type": "code",
   "execution_count": 1,
   "metadata": {},
   "outputs": [],
   "source": [
    "# Reciprocal cycles\n",
    "# A unit fraction contains 1 in the numerator. \n",
    "# The decimal representation of the unit fractions with denominators 2 to 10 are given:\n",
    "\n",
    "# 1/2\t= \t0.5\n",
    "# 1/3\t= \t0.(3)\n",
    "# 1/4\t= \t0.25\n",
    "# 1/5\t= \t0.2\n",
    "# 1/6\t= \t0.1(6)\n",
    "# 1/7\t= \t0.(142857)\n",
    "# 1/8\t= \t0.125\n",
    "# 1/9\t= \t0.(1)\n",
    "# 1/10\t= \t0.1\n",
    "# Where 0.1(6) means 0.166666..., and has a 1-digit recurring cycle. It can be seen that 1/7 has a 6-digit recurring cycle.\n",
    "\n",
    "# Find the value of d < 1000 for which 1/d contains the longest recurring cycle in its decimal fraction part."
   ]
  },
  {
   "cell_type": "code",
   "execution_count": null,
   "metadata": {},
   "outputs": [],
   "source": []
  }
 ],
 "metadata": {
  "kernelspec": {
   "display_name": "Python 3.8.10 64-bit ('3.8.10')",
   "language": "python",
   "name": "python3"
  },
  "language_info": {
   "codemirror_mode": {
    "name": "ipython",
    "version": 3
   },
   "file_extension": ".py",
   "mimetype": "text/x-python",
   "name": "python",
   "nbconvert_exporter": "python",
   "pygments_lexer": "ipython3",
   "version": "3.8.10"
  },
  "orig_nbformat": 4,
  "vscode": {
   "interpreter": {
    "hash": "676edac1ef9988138982468f4b102c32adc20290aa5b4039e9cf4d3af73ead8b"
   }
  }
 },
 "nbformat": 4,
 "nbformat_minor": 2
}
