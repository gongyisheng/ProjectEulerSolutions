{
 "cells": [
  {
   "cell_type": "code",
   "execution_count": null,
   "metadata": {},
   "outputs": [],
   "source": [
    "# Lexicographic permutations\n",
    "# A permutation is an ordered arrangement of objects. \n",
    "# For example, 3124 is one possible permutation of the digits 1, 2, 3 and 4. \n",
    "# If all of the permutations are listed numerically or alphabetically, we call it lexicographic order. \n",
    "# The lexicographic permutations of 0, 1 and 2 are:\n",
    "\n",
    "# 012   021   102   120   201   210\n",
    "\n",
    "# What is the millionth lexicographic permutation of the digits 0, 1, 2, 3, 4, 5, 6, 7, 8 and 9?"
   ]
  },
  {
   "cell_type": "code",
   "execution_count": null,
   "metadata": {},
   "outputs": [],
   "source": []
  }
 ],
 "metadata": {
  "language_info": {
   "name": "python"
  },
  "orig_nbformat": 4
 },
 "nbformat": 4,
 "nbformat_minor": 2
}
