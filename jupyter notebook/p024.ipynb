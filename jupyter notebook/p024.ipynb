{
 "cells": [
  {
   "cell_type": "code",
   "execution_count": null,
   "metadata": {},
   "outputs": [],
   "source": [
    "# Lexicographic permutations\n",
    "# A permutation is an ordered arrangement of objects. \n",
    "# For example, 3124 is one possible permutation of the digits 1, 2, 3 and 4. \n",
    "# If all of the permutations are listed numerically or alphabetically, we call it lexicographic order. \n",
    "# The lexicographic permutations of 0, 1 and 2 are:\n",
    "\n",
    "# 012   021   102   120   201   210\n",
    "\n",
    "# What is the millionth lexicographic permutation of the digits 0, 1, 2, 3, 4, 5, 6, 7, 8 and 9?"
   ]
  },
  {
   "cell_type": "code",
   "execution_count": 6,
   "metadata": {},
   "outputs": [
    {
     "name": "stdout",
     "output_type": "stream",
     "text": [
      "2783915460\n"
     ]
    }
   ],
   "source": [
    "count = 0\n",
    "ans = None\n",
    "def dfs(curr):\n",
    "    global ans, count\n",
    "    if ans is not None:\n",
    "        return 0\n",
    "    if len(curr) == 10:\n",
    "        count += 1\n",
    "        if count == 1_000_000:\n",
    "            ans = curr\n",
    "        return 0\n",
    "    \n",
    "    for i in range(0,10):\n",
    "        if str(i) not in curr:\n",
    "            dfs(curr+str(i))\n",
    "dfs(\"\")\n",
    "print(ans)"
   ]
  }
 ],
 "metadata": {
  "kernelspec": {
   "display_name": "Python 3.8.10 64-bit ('3.8.10')",
   "language": "python",
   "name": "python3"
  },
  "language_info": {
   "codemirror_mode": {
    "name": "ipython",
    "version": 3
   },
   "file_extension": ".py",
   "mimetype": "text/x-python",
   "name": "python",
   "nbconvert_exporter": "python",
   "pygments_lexer": "ipython3",
   "version": "3.8.10"
  },
  "orig_nbformat": 4,
  "vscode": {
   "interpreter": {
    "hash": "676edac1ef9988138982468f4b102c32adc20290aa5b4039e9cf4d3af73ead8b"
   }
  }
 },
 "nbformat": 4,
 "nbformat_minor": 2
}
