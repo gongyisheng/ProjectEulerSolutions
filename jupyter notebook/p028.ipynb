{
 "cells": [
  {
   "cell_type": "code",
   "execution_count": 1,
   "metadata": {},
   "outputs": [],
   "source": [
    "# Number spiral diagonals\n",
    "# Starting with the number 1 and moving to the right in a clockwise direction a 5 by 5 spiral is formed as follows:\n",
    "\n",
    "# 21 22 23 24 25\n",
    "# 20  7  8  9 10\n",
    "# 19  6  1  2 11\n",
    "# 18  5  4  3 12\n",
    "# 17 16 15 14 13\n",
    "\n",
    "# It can be verified that the sum of the numbers on the diagonals is 101.\n",
    "\n",
    "# What is the sum of the numbers on the diagonals in a 1001 by 1001 spiral formed in the same way?"
   ]
  },
  {
   "cell_type": "code",
   "execution_count": 9,
   "metadata": {},
   "outputs": [
    {
     "name": "stdout",
     "output_type": "stream",
     "text": [
      "669171001\n"
     ]
    }
   ],
   "source": [
    "n = 1001\n",
    "_n = int((n-1)/2)\n",
    "up_right = [(2*i+1)**2 for i in range(1,_n+1)]\n",
    "up_left = [(2*i+1)**2-(2*i) for i in range(1,_n+1)]\n",
    "down_left = [(2*i+1)**2-(2*i)*2 for i in range(1,_n+1)]\n",
    "down_right = [(2*i+1)**2-(2*i)*3 for i in range(1,_n+1)]\n",
    "\n",
    "ans = sum(up_right)+sum(up_left)+sum(down_left)+sum(down_right)+1\n",
    "print(ans)"
   ]
  }
 ],
 "metadata": {
  "kernelspec": {
   "display_name": "Python 3.8.10 64-bit ('3.8.10')",
   "language": "python",
   "name": "python3"
  },
  "language_info": {
   "codemirror_mode": {
    "name": "ipython",
    "version": 3
   },
   "file_extension": ".py",
   "mimetype": "text/x-python",
   "name": "python",
   "nbconvert_exporter": "python",
   "pygments_lexer": "ipython3",
   "version": "3.8.10"
  },
  "orig_nbformat": 4,
  "vscode": {
   "interpreter": {
    "hash": "676edac1ef9988138982468f4b102c32adc20290aa5b4039e9cf4d3af73ead8b"
   }
  }
 },
 "nbformat": 4,
 "nbformat_minor": 2
}
