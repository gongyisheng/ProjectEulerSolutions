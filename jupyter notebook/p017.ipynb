{
 "cells": [
  {
   "cell_type": "code",
   "execution_count": null,
   "metadata": {},
   "outputs": [],
   "source": [
    "# If the numbers 1 to 5 are written out in words: one, two, three, four, five, \n",
    "# then there are 3 + 3 + 5 + 4 + 4 = 19 letters used in total.\n",
    "\n",
    "# If all the numbers from 1 to 1000 (one thousand) \n",
    "# inclusive were written out in words, how many letters would be used?\n",
    "\n",
    "\n",
    "# NOTE: Do not count spaces or hyphens. \n",
    "# For example, 342 (three hundred and forty-two) contains 23 letters \n",
    "# and 115 (one hundred and fifteen) contains 20 letters. \n",
    "# The use of \"and\" when writing out numbers is in compliance with British usage."
   ]
  },
  {
   "cell_type": "code",
   "execution_count": 3,
   "metadata": {},
   "outputs": [
    {
     "name": "stdout",
     "output_type": "stream",
     "text": [
      "21124\n"
     ]
    }
   ],
   "source": [
    "word_dict = {\n",
    "    1: \"one\",\n",
    "    2: \"two\",\n",
    "    3: \"three\",\n",
    "    4: \"four\",\n",
    "    5: \"five\",\n",
    "    6: \"six\",\n",
    "    7: \"seven\",\n",
    "    8: \"eight\",\n",
    "    9: \"nine\",\n",
    "    10: \"ten\",\n",
    "    11: \"eleven\",\n",
    "    12: \"twelve\",\n",
    "    13: \"thirteen\",\n",
    "    14: \"fourteen\",\n",
    "    15: \"fifteen\",\n",
    "    16: \"sixteen\",\n",
    "    17: \"seventeen\",\n",
    "    18: \"eighteen\",\n",
    "    19: \"nineteen\",\n",
    "    20: \"twenty\",\n",
    "    30: \"thirty\",\n",
    "    40: \"forty\",\n",
    "    50: \"fifty\",\n",
    "    60: \"sixty\",\n",
    "    70: \"seventy\",\n",
    "    80: \"eighty\",\n",
    "    90: \"ninety\",\n",
    "    100: \"hundred\",\n",
    "    1000: \"thousand\"\n",
    "}\n",
    "\n",
    "def numToWritten(n):\n",
    "    word = \"\"\n",
    "    if n >= 1000:\n",
    "        d4 = n // 1000\n",
    "        n %= 1000\n",
    "        word += word_dict[d4] + word_dict[1000]\n",
    "    if n >= 100:\n",
    "        d3 = n // 100\n",
    "        n %= 100\n",
    "        word += word_dict[d3] + word_dict[100]\n",
    "        if n != 0:\n",
    "            word += \"and\"\n",
    "    if n >= 10:\n",
    "        d2 = n // 10\n",
    "        if d2 >= 2:\n",
    "            word += word_dict[d2*10]\n",
    "            n %= 10\n",
    "        else:\n",
    "            word += word_dict[n]\n",
    "            n = 0\n",
    "    if n > 0:\n",
    "        d1 = n\n",
    "        word += word_dict[d1]\n",
    "        n = 0\n",
    "    return word\n",
    "\n",
    "ans = 0\n",
    "for i in range(1,1001):\n",
    "    ans += len(numToWritten(i))\n",
    "print(ans)\n"
   ]
  }
 ],
 "metadata": {
  "kernelspec": {
   "display_name": "Python 3.8.10 64-bit ('3.8.10')",
   "language": "python",
   "name": "python3"
  },
  "language_info": {
   "codemirror_mode": {
    "name": "ipython",
    "version": 3
   },
   "file_extension": ".py",
   "mimetype": "text/x-python",
   "name": "python",
   "nbconvert_exporter": "python",
   "pygments_lexer": "ipython3",
   "version": "3.8.10"
  },
  "orig_nbformat": 4,
  "vscode": {
   "interpreter": {
    "hash": "676edac1ef9988138982468f4b102c32adc20290aa5b4039e9cf4d3af73ead8b"
   }
  }
 },
 "nbformat": 4,
 "nbformat_minor": 2
}
