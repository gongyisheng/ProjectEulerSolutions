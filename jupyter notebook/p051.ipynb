{
 "cells": [
  {
   "cell_type": "code",
   "execution_count": 1,
   "metadata": {},
   "outputs": [],
   "source": [
    "# Prime digit replacements\n",
    "\n",
    "# By replacing the 1st digit of the 2-digit number *3, \n",
    "# it turns out that six of the nine possible values: 13, 23, 43, 53, 73, and 83, are all prime.\n",
    "\n",
    "# By replacing the 3rd and 4th digits of 56**3 with the same digit, \n",
    "# this 5-digit number is the first example having seven primes among the ten generated numbers, \n",
    "# yielding the family: 56003, 56113, 56333, 56443, 56663, 56773, and 56993. \n",
    "# Consequently 56003, being the first member of this family, is the smallest prime with this property.\n",
    "\n",
    "# Find the smallest prime which, by replacing part of the number \n",
    "# (not necessarily adjacent digits) with the same digit, is part of an eight prime value family."
   ]
  },
  {
   "cell_type": "code",
   "execution_count": null,
   "metadata": {},
   "outputs": [],
   "source": []
  }
 ],
 "metadata": {
  "kernelspec": {
   "display_name": "Python 3.8.10 64-bit ('3.8.10')",
   "language": "python",
   "name": "python3"
  },
  "language_info": {
   "codemirror_mode": {
    "name": "ipython",
    "version": 3
   },
   "file_extension": ".py",
   "mimetype": "text/x-python",
   "name": "python",
   "nbconvert_exporter": "python",
   "pygments_lexer": "ipython3",
   "version": "3.8.10"
  },
  "orig_nbformat": 4,
  "vscode": {
   "interpreter": {
    "hash": "676edac1ef9988138982468f4b102c32adc20290aa5b4039e9cf4d3af73ead8b"
   }
  }
 },
 "nbformat": 4,
 "nbformat_minor": 2
}
