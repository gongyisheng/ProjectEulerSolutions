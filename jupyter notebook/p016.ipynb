{
 "cells": [
  {
   "cell_type": "code",
   "execution_count": null,
   "metadata": {},
   "outputs": [],
   "source": [
    "# Power digit sum\n",
    "# 2^15 = 32768 and the sum of its digits is 3 + 2 + 7 + 6 + 8 = 26.\n",
    "\n",
    "# What is the sum of the digits of the number 2^1000?"
   ]
  },
  {
   "cell_type": "code",
   "execution_count": 10,
   "metadata": {},
   "outputs": [
    {
     "name": "stdout",
     "output_type": "stream",
     "text": [
      "1366\n"
     ]
    }
   ],
   "source": [
    "def stringMult2(a):\n",
    "    prod = \"\"\n",
    "    p = len(a) - 1\n",
    "    isAboveTen = False\n",
    "    while p >= 0 or isAboveTen:\n",
    "        digit = int(a[p]) if p >= 0 else 0\n",
    "        digitProd = digit * 2 + int(isAboveTen)\n",
    "        isAboveTen = digitProd >= 10\n",
    "        if isAboveTen:\n",
    "            digitProd = digitProd - 10\n",
    "        prod = str(digitProd) + prod\n",
    "        p = p - 1\n",
    "    return prod\n",
    "\n",
    "prod = \"2\"\n",
    "for i in range(999):\n",
    "    prod = stringMult2(prod)\n",
    "\n",
    "sum = 0\n",
    "for i in range(len(prod)):\n",
    "    sum = sum + int(prod[i])\n",
    "\n",
    "print(sum)"
   ]
  }
 ],
 "metadata": {
  "kernelspec": {
   "display_name": "Python 3.8.10 64-bit ('3.8.10')",
   "language": "python",
   "name": "python3"
  },
  "language_info": {
   "codemirror_mode": {
    "name": "ipython",
    "version": 3
   },
   "file_extension": ".py",
   "mimetype": "text/x-python",
   "name": "python",
   "nbconvert_exporter": "python",
   "pygments_lexer": "ipython3",
   "version": "3.8.10"
  },
  "orig_nbformat": 4,
  "vscode": {
   "interpreter": {
    "hash": "676edac1ef9988138982468f4b102c32adc20290aa5b4039e9cf4d3af73ead8b"
   }
  }
 },
 "nbformat": 4,
 "nbformat_minor": 2
}
