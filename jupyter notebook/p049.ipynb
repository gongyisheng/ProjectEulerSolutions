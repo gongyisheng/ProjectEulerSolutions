{
 "cells": [
  {
   "cell_type": "code",
   "execution_count": null,
   "metadata": {},
   "outputs": [],
   "source": [
    "# Prime permutations\n",
    "# The arithmetic sequence, 1487, 4817, 8147, \n",
    "# in which each of the terms increases by 3330, is unusual in two ways: \n",
    "# (i) each of the three terms are prime, and, \n",
    "# (ii) each of the 4-digit numbers are permutations of one another.\n",
    "\n",
    "# There are no arithmetic sequences made up of three 1-, 2-, or 3-digit primes, exhibiting this property, \n",
    "# but there is one other 4-digit increasing sequence.\n",
    "\n",
    "# What 12-digit number do you form by concatenating the three terms in this sequence?"
   ]
  },
  {
   "cell_type": "code",
   "execution_count": 7,
   "metadata": {},
   "outputs": [
    {
     "name": "stdout",
     "output_type": "stream",
     "text": [
      "296962999629\n"
     ]
    }
   ],
   "source": [
    "import math\n",
    "\n",
    "prime_list = [2]\n",
    "curr = 3\n",
    "limit = 10_000\n",
    "\n",
    "while curr < limit:\n",
    "    max_factor = int(math.sqrt(curr))\n",
    "    for factor in prime_list:\n",
    "        if factor > max_factor:\n",
    "            prime_list.append(curr)\n",
    "            break\n",
    "        elif curr % factor == 0:\n",
    "            break\n",
    "    curr = curr + 1\n",
    "\n",
    "possible_prime_list = [num for num in prime_list if num > 1000]\n",
    "possible_prime_set = set(possible_prime_list)\n",
    "ans = \"nothing\"\n",
    "\n",
    "for a in possible_prime_list:\n",
    "    for step in range(1000,limit):\n",
    "        b = a + step\n",
    "        c = b + step\n",
    "        if sorted(str(a)) == sorted(str(b)) and sorted(str(a)) == sorted(str(c))\\\n",
    "            and b in possible_prime_set and c in possible_prime_set:\n",
    "            if a != 1487 or step != 3330:\n",
    "                ans = str(a)+str(a+step)+str(a+step*2)\n",
    "                break\n",
    "\n",
    "print(ans)"
   ]
  }
 ],
 "metadata": {
  "kernelspec": {
   "display_name": "Python 3.8.10 64-bit ('3.8.10')",
   "language": "python",
   "name": "python3"
  },
  "language_info": {
   "codemirror_mode": {
    "name": "ipython",
    "version": 3
   },
   "file_extension": ".py",
   "mimetype": "text/x-python",
   "name": "python",
   "nbconvert_exporter": "python",
   "pygments_lexer": "ipython3",
   "version": "3.8.10"
  },
  "orig_nbformat": 4,
  "vscode": {
   "interpreter": {
    "hash": "676edac1ef9988138982468f4b102c32adc20290aa5b4039e9cf4d3af73ead8b"
   }
  }
 },
 "nbformat": 4,
 "nbformat_minor": 2
}
