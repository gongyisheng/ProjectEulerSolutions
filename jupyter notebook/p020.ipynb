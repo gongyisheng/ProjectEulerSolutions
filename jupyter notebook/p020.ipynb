{
 "cells": [
  {
   "cell_type": "code",
   "execution_count": 1,
   "metadata": {},
   "outputs": [],
   "source": [
    "# Factorial digit sum\n",
    "# n! means n × (n − 1) × ... × 3 × 2 × 1\n",
    "\n",
    "# For example, 10! = 10 × 9 × ... × 3 × 2 × 1 = 3628800,\n",
    "# and the sum of the digits in the number 10! is 3 + 6 + 2 + 8 + 8 + 0 + 0 = 27.\n",
    "\n",
    "# Find the sum of the digits in the number 100!"
   ]
  },
  {
   "cell_type": "code",
   "execution_count": 26,
   "metadata": {},
   "outputs": [
    {
     "name": "stdout",
     "output_type": "stream",
     "text": [
      "648\n"
     ]
    }
   ],
   "source": [
    "def stringAdd(s1, s2):\n",
    "    p1 = len(s1) - 1\n",
    "    p2 = len(s2) - 1\n",
    "    sum = \"\"\n",
    "    isAboveTen = False\n",
    "    while p1 >= 0 or p2 >= 0 or isAboveTen:\n",
    "        n1 = int(s1[p1]) if p1 >= 0 else 0\n",
    "        n2 = int(s2[p2]) if p2 >= 0 else 0\n",
    "        digitSum = n1 + n2 + int(isAboveTen)\n",
    "        isAboveTen = digitSum >= 10\n",
    "        \n",
    "        if isAboveTen:\n",
    "            digitSum = digitSum - 10\n",
    "        \n",
    "        sum = str(digitSum) + sum\n",
    "        p1 = p1 - 1\n",
    "        p2 = p2 - 1\n",
    "    \n",
    "    return sum\n",
    "\n",
    "def stringSingleMult(s1, s2):\n",
    "    p1 = len(s1) - 1\n",
    "    sum = \"\"\n",
    "    toPlus = 0\n",
    "    while p1 >= 0 or toPlus > 0:\n",
    "        n1 = int(s1[p1]) if p1 >= 0 else 0\n",
    "        n2 = int(s2)\n",
    "        digitProd = n1*n2 + toPlus\n",
    "        toPlus = digitProd // 10\n",
    "        \n",
    "        if digitProd >= 10:\n",
    "            digitProd %= 10\n",
    "        \n",
    "        sum = str(digitProd) + sum\n",
    "        p1 = p1 - 1\n",
    "    \n",
    "    return sum\n",
    "\n",
    "def stringMult(s1, s2):\n",
    "    p = len(s2)-1\n",
    "    prod = \"\"\n",
    "    while p >= 0:\n",
    "        tempProd = stringSingleMult(s1, s2[p])\n",
    "        for i in range(len(s2)-1-p):\n",
    "            tempProd += \"0\"\n",
    "        prod = stringAdd(prod, tempProd)\n",
    "        p -= 1\n",
    "    return prod\n",
    "\n",
    "n = 100\n",
    "prod = \"1\"\n",
    "for i in range(1,n+1): \n",
    "    prod = stringMult(prod, str(i))\n",
    "\n",
    "ans = sum([int(i) for i in prod])\n",
    "print(ans)"
   ]
  }
 ],
 "metadata": {
  "kernelspec": {
   "display_name": "Python 3.8.10 64-bit ('3.8.10')",
   "language": "python",
   "name": "python3"
  },
  "language_info": {
   "codemirror_mode": {
    "name": "ipython",
    "version": 3
   },
   "file_extension": ".py",
   "mimetype": "text/x-python",
   "name": "python",
   "nbconvert_exporter": "python",
   "pygments_lexer": "ipython3",
   "version": "3.8.10"
  },
  "orig_nbformat": 4,
  "vscode": {
   "interpreter": {
    "hash": "676edac1ef9988138982468f4b102c32adc20290aa5b4039e9cf4d3af73ead8b"
   }
  }
 },
 "nbformat": 4,
 "nbformat_minor": 2
}
