{
 "cells": [
  {
   "cell_type": "code",
   "execution_count": 1,
   "metadata": {},
   "outputs": [],
   "source": [
    "# Integer right triangles\n",
    "# If p is the perimeter of a right angle triangle with integral length sides, \n",
    "# {a,b,c}, there are exactly three solutions for p = 120.\n",
    "\n",
    "# {20,48,52}, {24,45,51}, {30,40,50}\n",
    "\n",
    "# For which value of p ≤ 1000, is the number of solutions maximised?"
   ]
  },
  {
   "cell_type": "code",
   "execution_count": 12,
   "metadata": {},
   "outputs": [
    {
     "name": "stdout",
     "output_type": "stream",
     "text": [
      "840\n"
     ]
    }
   ],
   "source": [
    "import math\n",
    "\n",
    "limit = 1000\n",
    "possible_comb = []\n",
    "for a in range(1,limit):\n",
    "    for b in range(a,limit):\n",
    "        c = int(math.sqrt(a**2+b**2))\n",
    "        if a + b + c > limit:\n",
    "            break\n",
    "        if a**2 + b**2 == c**2:\n",
    "            possible_comb.append([a,b,c])\n",
    "\n",
    "freq = {}\n",
    "for comb in possible_comb:\n",
    "    p = comb[0]+comb[1]+comb[2]\n",
    "    freq[p] = 1 if p not in freq else freq[p]+1\n",
    "\n",
    "ans = 0\n",
    "for k,v in freq.items():\n",
    "    if ans==0 or v > freq[ans]:\n",
    "        ans = k\n",
    "\n",
    "print(ans)"
   ]
  }
 ],
 "metadata": {
  "kernelspec": {
   "display_name": "Python 3.8.10 64-bit ('3.8.10')",
   "language": "python",
   "name": "python3"
  },
  "language_info": {
   "codemirror_mode": {
    "name": "ipython",
    "version": 3
   },
   "file_extension": ".py",
   "mimetype": "text/x-python",
   "name": "python",
   "nbconvert_exporter": "python",
   "pygments_lexer": "ipython3",
   "version": "3.8.10"
  },
  "orig_nbformat": 4,
  "vscode": {
   "interpreter": {
    "hash": "676edac1ef9988138982468f4b102c32adc20290aa5b4039e9cf4d3af73ead8b"
   }
  }
 },
 "nbformat": 4,
 "nbformat_minor": 2
}
