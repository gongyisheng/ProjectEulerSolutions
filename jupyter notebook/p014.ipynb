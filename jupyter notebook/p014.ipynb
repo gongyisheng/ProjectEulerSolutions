{
 "cells": [
  {
   "cell_type": "code",
   "execution_count": null,
   "metadata": {},
   "outputs": [],
   "source": [
    "# Longest Collatz sequence\n",
    "# The following iterative sequence is defined for the set of positive integers:\n",
    "\n",
    "# n → n/2 (n is even)\n",
    "# n → 3n + 1 (n is odd)\n",
    "\n",
    "# Using the rule above and starting with 13, we generate the following sequence:\n",
    "\n",
    "# 13 → 40 → 20 → 10 → 5 → 16 → 8 → 4 → 2 → 1\n",
    "# It can be seen that this sequence (starting at 13 and finishing at 1) contains 10 terms. Although it has not been proved yet (Collatz Problem), it is thought that all starting numbers finish at 1.\n",
    "\n",
    "# Which starting number, under one million, produces the longest chain?\n",
    "\n",
    "# NOTE: Once the chain starts the terms are allowed to go above one million."
   ]
  },
  {
   "cell_type": "code",
   "execution_count": 9,
   "metadata": {},
   "outputs": [
    {
     "name": "stdout",
     "output_type": "stream",
     "text": [
      "837799\n"
     ]
    }
   ],
   "source": [
    "# TODO: can be improved by dynamic programming\n",
    "limit = 1_000_000\n",
    "ans = 0\n",
    "max_len = 0\n",
    "for i in range(1,limit+1):\n",
    "    l = 1\n",
    "    n = i\n",
    "    while n != 1:\n",
    "        l += 1\n",
    "        if n % 2 == 0:\n",
    "            n = int(n/2)\n",
    "        else:\n",
    "            n = 3*n + 1\n",
    "    if l > max_len:\n",
    "        max_len = l\n",
    "        ans = i\n",
    "\n",
    "print(ans)"
   ]
  },
  {
   "cell_type": "code",
   "execution_count": null,
   "metadata": {},
   "outputs": [],
   "source": [
    "# Read more:\n",
    "# 1. https://en.wikipedia.org/wiki/Collatz_conjecture"
   ]
  }
 ],
 "metadata": {
  "kernelspec": {
   "display_name": "Python 3.8.10 64-bit ('3.8.10')",
   "language": "python",
   "name": "python3"
  },
  "language_info": {
   "codemirror_mode": {
    "name": "ipython",
    "version": 3
   },
   "file_extension": ".py",
   "mimetype": "text/x-python",
   "name": "python",
   "nbconvert_exporter": "python",
   "pygments_lexer": "ipython3",
   "version": "3.8.10"
  },
  "orig_nbformat": 4,
  "vscode": {
   "interpreter": {
    "hash": "676edac1ef9988138982468f4b102c32adc20290aa5b4039e9cf4d3af73ead8b"
   }
  }
 },
 "nbformat": 4,
 "nbformat_minor": 2
}
