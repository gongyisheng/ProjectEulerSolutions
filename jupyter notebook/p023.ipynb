{
 "cells": [
  {
   "cell_type": "code",
   "execution_count": 1,
   "metadata": {},
   "outputs": [],
   "source": [
    "# Non-abundant sums\n",
    "# A perfect number is a number for which the sum of its proper divisors is exactly equal to the number. \n",
    "# For example, the sum of the proper divisors of 28 would be 1 + 2 + 4 + 7 + 14 = 28, which means that 28 is a perfect number.\n",
    "\n",
    "# A number n is called deficient if the sum of its proper divisors is less than n \n",
    "# and it is called abundant if this sum exceeds n.\n",
    "\n",
    "# As 12 is the smallest abundant number, 1 + 2 + 3 + 4 + 6 = 16, \n",
    "# the smallest number that can be written as the sum of two abundant numbers is 24. \n",
    "# By mathematical analysis, it can be shown that all integers greater than 28123 \n",
    "# can be written as the sum of two abundant numbers. \n",
    "# However, this upper limit cannot be reduced any further by analysis \n",
    "# even though it is known that the greatest number that \n",
    "# cannot be expressed as the sum of two abundant numbers is less than this limit.\n",
    "\n",
    "# Find the sum of all the positive integers which cannot be written as the sum of two abundant numbers."
   ]
  },
  {
   "cell_type": "code",
   "execution_count": null,
   "metadata": {},
   "outputs": [],
   "source": []
  }
 ],
 "metadata": {
  "kernelspec": {
   "display_name": "Python 3.8.10 64-bit ('3.8.10')",
   "language": "python",
   "name": "python3"
  },
  "language_info": {
   "codemirror_mode": {
    "name": "ipython",
    "version": 3
   },
   "file_extension": ".py",
   "mimetype": "text/x-python",
   "name": "python",
   "nbconvert_exporter": "python",
   "pygments_lexer": "ipython3",
   "version": "3.8.10"
  },
  "orig_nbformat": 4,
  "vscode": {
   "interpreter": {
    "hash": "676edac1ef9988138982468f4b102c32adc20290aa5b4039e9cf4d3af73ead8b"
   }
  }
 },
 "nbformat": 4,
 "nbformat_minor": 2
}
