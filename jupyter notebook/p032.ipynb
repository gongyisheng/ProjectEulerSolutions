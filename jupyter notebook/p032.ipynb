{
 "cells": [
  {
   "cell_type": "code",
   "execution_count": 1,
   "metadata": {},
   "outputs": [],
   "source": [
    "# Pandigital products\n",
    "# We shall say that an n-digit number is pandigital if it makes use of all the digits 1 to n exactly once; \n",
    "# for example, the 5-digit number, 15234, is 1 through 5 pandigital.\n",
    "\n",
    "# The product 7254 is unusual, as the identity, \n",
    "# 39 × 186 = 7254, containing multiplicand, multiplier, and product is 1 through 9 pandigital.\n",
    "\n",
    "# Find the sum of all products whose multiplicand/multiplier/product identity can be written as a 1 through 9 pandigital.\n",
    "\n",
    "# HINT: Some products can be obtained in more than one way so be sure to only include it once in your sum."
   ]
  },
  {
   "cell_type": "code",
   "execution_count": 5,
   "metadata": {},
   "outputs": [
    {
     "name": "stdout",
     "output_type": "stream",
     "text": [
      "45228\n"
     ]
    }
   ],
   "source": [
    "# (3d) = (1d)*(3d) = (2d)*(2d), to sum up, (3d) number takes 7 digits < 9 digits\n",
    "# (5d) = (1d)*(5d) = (4d)*(2d) = (3d)*(3d), to sum up, (5d) number takes 11 digits > 9 digits\n",
    "# Thus, the pandigital number has to be 4 digits\n",
    "import math\n",
    "\n",
    "ans = 0\n",
    "\n",
    "for i in range(1000, 10000):\n",
    "    limit = int(math.sqrt(i))\n",
    "    for div in range(2,limit+1):\n",
    "        if i % div == 0:\n",
    "            pandigitStr = sorted(str(div)+str(int(i/div))+str(i))\n",
    "            if \"\".join(pandigitStr) == \"123456789\":\n",
    "                ans += i\n",
    "                break\n",
    "\n",
    "print(ans)"
   ]
  }
 ],
 "metadata": {
  "kernelspec": {
   "display_name": "Python 3.8.10 64-bit ('3.8.10')",
   "language": "python",
   "name": "python3"
  },
  "language_info": {
   "codemirror_mode": {
    "name": "ipython",
    "version": 3
   },
   "file_extension": ".py",
   "mimetype": "text/x-python",
   "name": "python",
   "nbconvert_exporter": "python",
   "pygments_lexer": "ipython3",
   "version": "3.8.10"
  },
  "orig_nbformat": 4,
  "vscode": {
   "interpreter": {
    "hash": "676edac1ef9988138982468f4b102c32adc20290aa5b4039e9cf4d3af73ead8b"
   }
  }
 },
 "nbformat": 4,
 "nbformat_minor": 2
}
