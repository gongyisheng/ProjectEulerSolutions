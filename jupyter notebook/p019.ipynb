{
 "cells": [
  {
   "cell_type": "code",
   "execution_count": null,
   "metadata": {},
   "outputs": [],
   "source": [
    "# You are given the following information, but you may prefer to do some research for yourself.\n",
    "\n",
    "# 1 Jan 1900 was a Monday.\n",
    "# Thirty days has September, April, June and November.\n",
    "# All the rest have thirty-one,\n",
    "# Saving February alone,\n",
    "# Which has twenty-eight, rain or shine.\n",
    "# And on leap years, twenty-nine.\n",
    "# A leap year occurs on any year evenly divisible by 4, but not on a century unless it is divisible by 400.\n",
    "# How many Sundays fell on the first of the month during the twentieth century (1 Jan 1901 to 31 Dec 2000)?"
   ]
  },
  {
   "cell_type": "code",
   "execution_count": 17,
   "metadata": {},
   "outputs": [
    {
     "name": "stdout",
     "output_type": "stream",
     "text": [
      "171\n"
     ]
    }
   ],
   "source": [
    "months = [31,28,31,30,31,30,31,31,30,31,30,31]\n",
    "months2 = [31,29,31,30,31,30,31,31,30,31,30,31]\n",
    "day = 2\n",
    "count = 0\n",
    "for i in range (1901,2001):\n",
    "    for j in range (0,12):\n",
    "        if i%4 != 0:\n",
    "            day += months[j]%7\n",
    "        else:\n",
    "            day += months2[j]%7\n",
    "        if day%7 == 0:\n",
    "            count += 1\n",
    "\n",
    "print(count)"
   ]
  }
 ],
 "metadata": {
  "kernelspec": {
   "display_name": "Python 3.8.10 64-bit ('3.8.10')",
   "language": "python",
   "name": "python3"
  },
  "language_info": {
   "codemirror_mode": {
    "name": "ipython",
    "version": 3
   },
   "file_extension": ".py",
   "mimetype": "text/x-python",
   "name": "python",
   "nbconvert_exporter": "python",
   "pygments_lexer": "ipython3",
   "version": "3.8.10"
  },
  "orig_nbformat": 4,
  "vscode": {
   "interpreter": {
    "hash": "676edac1ef9988138982468f4b102c32adc20290aa5b4039e9cf4d3af73ead8b"
   }
  }
 },
 "nbformat": 4,
 "nbformat_minor": 2
}
