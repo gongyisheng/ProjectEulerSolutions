{
 "cells": [
  {
   "cell_type": "code",
   "execution_count": 1,
   "metadata": {},
   "outputs": [],
   "source": [
    "# Coded triangle numbers\n",
    "# The nth term of the sequence of triangle numbers is given by, \n",
    "# tn = ½n(n+1); so the first ten triangle numbers are:\n",
    "\n",
    "# 1, 3, 6, 10, 15, 21, 28, 36, 45, 55, ...\n",
    "\n",
    "# By converting each letter in a word to a number corresponding to its alphabetical position \n",
    "# and adding these values we form a word value. \n",
    "# For example, the word value for SKY is 19 + 11 + 25 = 55 = t10. \n",
    "# If the word value is a triangle number then we shall call the word a triangle word.\n",
    "\n",
    "# Using words.txt (right click and 'Save Link/Target As...'), a 16K text file containing nearly \n",
    "# two-thousand common English words, how many are triangle words?"
   ]
  }
 ],
 "metadata": {
  "kernelspec": {
   "display_name": "Python 3.8.10 64-bit ('3.8.10')",
   "language": "python",
   "name": "python3"
  },
  "language_info": {
   "codemirror_mode": {
    "name": "ipython",
    "version": 3
   },
   "file_extension": ".py",
   "mimetype": "text/x-python",
   "name": "python",
   "nbconvert_exporter": "python",
   "pygments_lexer": "ipython3",
   "version": "3.8.10"
  },
  "orig_nbformat": 4,
  "vscode": {
   "interpreter": {
    "hash": "676edac1ef9988138982468f4b102c32adc20290aa5b4039e9cf4d3af73ead8b"
   }
  }
 },
 "nbformat": 4,
 "nbformat_minor": 2
}
