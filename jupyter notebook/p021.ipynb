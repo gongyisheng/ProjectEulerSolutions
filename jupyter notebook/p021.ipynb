{
 "cells": [
  {
   "cell_type": "code",
   "execution_count": null,
   "metadata": {},
   "outputs": [],
   "source": [
    "# Amicable numbers\n",
    "# Let d(n) be defined as the sum of proper divisors of n (numbers less than n which divide evenly into n).\n",
    "# If d(a) = b and d(b) = a, where a ≠ b, then a and b are an amicable pair and each of a and b are called amicable numbers.\n",
    "\n",
    "# For example, the proper divisors of 220 are 1, 2, 4, 5, 10, 11, 20, 22, 44, 55 and 110; therefore d(220) = 284. \n",
    "# The proper divisors of 284 are 1, 2, 4, 71 and 142; so d(284) = 220.\n",
    "\n",
    "# Evaluate the sum of all the amicable numbers under 10000."
   ]
  },
  {
   "cell_type": "code",
   "execution_count": 10,
   "metadata": {},
   "outputs": [
    {
     "name": "stdout",
     "output_type": "stream",
     "text": [
      "31626\n"
     ]
    }
   ],
   "source": [
    "import math\n",
    "amicable_dict = {}\n",
    "n = 10000\n",
    "\n",
    "for i in range(2, n):\n",
    "    div_sum = 0\n",
    "    for j in range(1, int(math.sqrt(i))+1):\n",
    "        if i % j == 0:\n",
    "            if j == 1:\n",
    "                div_sum += 1\n",
    "            elif j == math.sqrt(i):\n",
    "                div_sum += j\n",
    "            else:\n",
    "                div_sum += j + int(i/j)\n",
    "    amicable_dict[i] = div_sum\n",
    "\n",
    "ans = 0\n",
    "for k,v in amicable_dict.items():\n",
    "    if amicable_dict.get(v) == k and k != v:\n",
    "        ans += k\n",
    "print(ans)"
   ]
  }
 ],
 "metadata": {
  "kernelspec": {
   "display_name": "Python 3.8.10 64-bit ('3.8.10')",
   "language": "python",
   "name": "python3"
  },
  "language_info": {
   "codemirror_mode": {
    "name": "ipython",
    "version": 3
   },
   "file_extension": ".py",
   "mimetype": "text/x-python",
   "name": "python",
   "nbconvert_exporter": "python",
   "pygments_lexer": "ipython3",
   "version": "3.8.10"
  },
  "orig_nbformat": 4,
  "vscode": {
   "interpreter": {
    "hash": "676edac1ef9988138982468f4b102c32adc20290aa5b4039e9cf4d3af73ead8b"
   }
  }
 },
 "nbformat": 4,
 "nbformat_minor": 2
}
