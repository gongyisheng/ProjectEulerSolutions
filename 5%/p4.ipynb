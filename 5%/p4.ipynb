{
 "cells": [
  {
   "cell_type": "code",
   "execution_count": 1,
   "metadata": {},
   "outputs": [],
   "source": [
    "# Largest palindrome product\n",
    "# A palindromic number reads the same both ways. \n",
    "# The largest palindrome made from the product of two 2-digit numbers is 9009 = 91 × 99.\n",
    "\n",
    "# Find the largest palindrome made from the product of two 3-digit numbers."
   ]
  },
  {
   "cell_type": "code",
   "execution_count": 9,
   "metadata": {},
   "outputs": [
    {
     "name": "stdout",
     "output_type": "stream",
     "text": [
      "906609\n"
     ]
    }
   ],
   "source": [
    "# P must be 6 digits\n",
    "# P=100000x+10000y+1000z+100z+10y+x\n",
    "# P=100001x+10010y+1100z\n",
    "# P=11(9091x+910y+100z)\n",
    "# Since 11 is prime, at least one of the integers a or b must have a factor of 11.\n",
    "\n",
    "ans = -1\n",
    "\n",
    "def isPalindromic(a):\n",
    "    a = str(a)\n",
    "    l = 0\n",
    "    r = len(a)-1\n",
    "    while l<r:\n",
    "        if a[l] != a[r]:\n",
    "            return False\n",
    "        else:\n",
    "            l = l + 1\n",
    "            r = r - 1\n",
    "    return True\n",
    "\n",
    "a = 999\n",
    "while a >= 100:\n",
    "    if a % 11 == 0:\n",
    "        b = 999\n",
    "        db = 1\n",
    "    else:\n",
    "        b = 990\n",
    "        db = 11\n",
    "    while b >= 100:\n",
    "        if a * b <= ans:\n",
    "            break\n",
    "        if isPalindromic(a * b):\n",
    "            ans = a * b \n",
    "        b = b - db\n",
    "    a = a - 1\n",
    "\n",
    "print(ans)"
   ]
  }
 ],
 "metadata": {
  "kernelspec": {
   "display_name": "Python 3.8.10 64-bit ('3.8.10')",
   "language": "python",
   "name": "python3"
  },
  "language_info": {
   "codemirror_mode": {
    "name": "ipython",
    "version": 3
   },
   "file_extension": ".py",
   "mimetype": "text/x-python",
   "name": "python",
   "nbconvert_exporter": "python",
   "pygments_lexer": "ipython3",
   "version": "3.8.10"
  },
  "orig_nbformat": 4,
  "vscode": {
   "interpreter": {
    "hash": "676edac1ef9988138982468f4b102c32adc20290aa5b4039e9cf4d3af73ead8b"
   }
  }
 },
 "nbformat": 4,
 "nbformat_minor": 2
}
