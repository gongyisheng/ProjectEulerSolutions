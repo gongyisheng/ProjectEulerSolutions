{
 "cells": [
  {
   "cell_type": "code",
   "execution_count": 1,
   "metadata": {},
   "outputs": [],
   "source": [
    "# Sub-string divisibility\n",
    "# The number, 1406357289, is a 0 to 9 pandigital number \n",
    "# because it is made up of each of the digits 0 to 9 in some order, \n",
    "# but it also has a rather interesting sub-string divisibility property.\n",
    "\n",
    "# Let d1 be the 1st digit, d2 be the 2nd digit, and so on. \n",
    "# In this way, we note the following:\n",
    "\n",
    "# d2d3d4=406 is divisible by 2\n",
    "# d3d4d5=063 is divisible by 3\n",
    "# d4d5d6=635 is divisible by 5\n",
    "# d5d6d7=357 is divisible by 7\n",
    "# d6d7d8=572 is divisible by 11\n",
    "# d7d8d9=728 is divisible by 13\n",
    "# d8d9d10=289 is divisible by 17\n",
    "\n",
    "# Find the sum of all 0 to 9 pandigital numbers with this property."
   ]
  },
  {
   "cell_type": "code",
   "execution_count": 21,
   "metadata": {},
   "outputs": [
    {
     "name": "stdout",
     "output_type": "stream",
     "text": [
      "16695334890\n"
     ]
    }
   ],
   "source": [
    "# digit 4 has to be one of 0,2,4,6,8\n",
    "# digit 6 has to be one of 0,5\n",
    "# sum of digit 3,4,5 has to be divisible to 3\n",
    "possible_num = []\n",
    "def build_possible_num(curr, visited):\n",
    "    if len(curr) == 10 and int(curr[7:10]) % 17 == 0:\n",
    "        global possible_num\n",
    "        possible_num.append(curr)\n",
    "        return 0\n",
    "    elif len(curr) == 4 and int(curr[1:4]) % 2 != 0:\n",
    "        return 0\n",
    "    elif len(curr) == 5 and int(curr[2:5]) % 3 != 0:\n",
    "        return 0\n",
    "    elif len(curr) == 6 and int(curr[3:6]) % 5 != 0:\n",
    "        return 0\n",
    "    elif len(curr) == 7 and int(curr[4:7]) % 7 != 0:\n",
    "        return 0\n",
    "    elif len(curr) == 8 and int(curr[5:8]) % 11 != 0:\n",
    "        return 0\n",
    "    elif len(curr) == 9 and int(curr[6:9]) % 13 != 0:\n",
    "        return 0\n",
    "\n",
    "    for i in range(10):\n",
    "        if visited[i] == False:\n",
    "            visited[i] = True\n",
    "            build_possible_num(curr+str(i), visited)\n",
    "            visited[i] = False\n",
    "\n",
    "visited = [False for i in range(10)]\n",
    "build_possible_num(\"\", visited)\n",
    "print(sum([int(n) for n in possible_num]))"
   ]
  }
 ],
 "metadata": {
  "kernelspec": {
   "display_name": "Python 3.8.10 64-bit ('3.8.10')",
   "language": "python",
   "name": "python3"
  },
  "language_info": {
   "codemirror_mode": {
    "name": "ipython",
    "version": 3
   },
   "file_extension": ".py",
   "mimetype": "text/x-python",
   "name": "python",
   "nbconvert_exporter": "python",
   "pygments_lexer": "ipython3",
   "version": "3.8.10"
  },
  "orig_nbformat": 4,
  "vscode": {
   "interpreter": {
    "hash": "676edac1ef9988138982468f4b102c32adc20290aa5b4039e9cf4d3af73ead8b"
   }
  }
 },
 "nbformat": 4,
 "nbformat_minor": 2
}
