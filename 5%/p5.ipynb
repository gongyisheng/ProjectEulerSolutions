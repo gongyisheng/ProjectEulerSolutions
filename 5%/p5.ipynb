{
 "cells": [
  {
   "cell_type": "code",
   "execution_count": 1,
   "metadata": {},
   "outputs": [],
   "source": [
    "# Smallest multiple\n",
    "# 2520 is the smallest number that can be divided by each of the numbers from 1 to 10 without any remainder.\n",
    "\n",
    "# What is the smallest positive number that is evenly divisible by all of the numbers from 1 to 20?"
   ]
  },
  {
   "cell_type": "code",
   "execution_count": 6,
   "metadata": {},
   "outputs": [
    {
     "name": "stdout",
     "output_type": "stream",
     "text": [
      "[2, 3, 5, 7, 11, 13, 17, 19]\n",
      "232792560.0\n"
     ]
    }
   ],
   "source": [
    "import math\n",
    "\n",
    "prime_factor_list = []\n",
    "ans_dict = {}\n",
    "\n",
    "def reduce(n):\n",
    "    max_factor = int(math.sqrt(n))\n",
    "    reduced_count = {}\n",
    "    for factor in prime_factor_list:\n",
    "        if factor > max_factor:\n",
    "            reduced_count[n] = 1\n",
    "            break\n",
    "        count = 0\n",
    "        while n % factor == 0:\n",
    "            n = n / factor\n",
    "            count = count + 1\n",
    "        if count != 0:\n",
    "            reduced_count[factor] = count\n",
    "\n",
    "    if len(reduced_count) <= 1:\n",
    "        prime_factor_list.append(n)\n",
    "    return reduced_count\n",
    "\n",
    "for i in range(2,21):\n",
    "    reduced_count = reduce(i)\n",
    "    for k,v in reduced_count.items():\n",
    "        if k not in ans_dict:\n",
    "            ans_dict[k] = v\n",
    "        else:\n",
    "            ans_dict[k] = max(ans_dict[k], v)\n",
    "\n",
    "ans = 1\n",
    "for k,v in ans_dict.items():\n",
    "    ans = ans * math.pow(k,v)\n",
    "\n",
    "print(prime_factor_list)\n",
    "print(ans)"
   ]
  }
 ],
 "metadata": {
  "kernelspec": {
   "display_name": "Python 3.8.10 64-bit ('3.8.10')",
   "language": "python",
   "name": "python3"
  },
  "language_info": {
   "codemirror_mode": {
    "name": "ipython",
    "version": 3
   },
   "file_extension": ".py",
   "mimetype": "text/x-python",
   "name": "python",
   "nbconvert_exporter": "python",
   "pygments_lexer": "ipython3",
   "version": "3.8.10"
  },
  "orig_nbformat": 4,
  "vscode": {
   "interpreter": {
    "hash": "676edac1ef9988138982468f4b102c32adc20290aa5b4039e9cf4d3af73ead8b"
   }
  }
 },
 "nbformat": 4,
 "nbformat_minor": 2
}
