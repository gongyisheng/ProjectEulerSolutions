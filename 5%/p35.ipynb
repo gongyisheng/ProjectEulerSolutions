{
 "cells": [
  {
   "cell_type": "code",
   "execution_count": null,
   "metadata": {},
   "outputs": [],
   "source": [
    "# Circular primes\n",
    "# The number, 197, is called a circular prime because all rotations of the digits: 197, 971, and 719, are themselves prime.\n",
    "\n",
    "# There are thirteen such primes below 100: 2, 3, 5, 7, 11, 13, 17, 31, 37, 71, 73, 79, and 97.\n",
    "\n",
    "# How many circular primes are there below one million?"
   ]
  },
  {
   "cell_type": "code",
   "execution_count": 31,
   "metadata": {},
   "outputs": [
    {
     "name": "stdout",
     "output_type": "stream",
     "text": [
      "55\n"
     ]
    }
   ],
   "source": [
    "import math\n",
    "\n",
    "prime_list = [2]\n",
    "curr = 3\n",
    "limit = 1_000_000\n",
    "\n",
    "while curr < limit:\n",
    "    max_factor = int(math.sqrt(curr))\n",
    "    for factor in prime_list:\n",
    "        if factor > max_factor:\n",
    "            prime_list.append(curr)\n",
    "            break\n",
    "        elif curr % factor == 0:\n",
    "            break\n",
    "    curr = curr + 1\n",
    "\n",
    "ans = 0\n",
    "ans_list = []\n",
    "prime_set = set(prime_list)\n",
    "\n",
    "for num in prime_list:\n",
    "    n = str(num)\n",
    "    rotate_count = 0\n",
    "    \n",
    "    for i in range(len(n)):\n",
    "        another = n[i:]+n[:i]\n",
    "        if int(another) in prime_set:\n",
    "            rotate_count += 1\n",
    "    \n",
    "    if rotate_count == len(n):\n",
    "        ans += 1\n",
    "        ans_list.append(num)\n",
    "\n",
    "print(ans)"
   ]
  }
 ],
 "metadata": {
  "kernelspec": {
   "display_name": "Python 3.8.10 64-bit ('3.8.10')",
   "language": "python",
   "name": "python3"
  },
  "language_info": {
   "codemirror_mode": {
    "name": "ipython",
    "version": 3
   },
   "file_extension": ".py",
   "mimetype": "text/x-python",
   "name": "python",
   "nbconvert_exporter": "python",
   "pygments_lexer": "ipython3",
   "version": "3.8.10"
  },
  "orig_nbformat": 4,
  "vscode": {
   "interpreter": {
    "hash": "676edac1ef9988138982468f4b102c32adc20290aa5b4039e9cf4d3af73ead8b"
   }
  }
 },
 "nbformat": 4,
 "nbformat_minor": 2
}
