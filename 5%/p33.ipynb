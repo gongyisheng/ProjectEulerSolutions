{
 "cells": [
  {
   "cell_type": "code",
   "execution_count": 1,
   "metadata": {},
   "outputs": [],
   "source": [
    "# Digit cancelling fractions\n",
    "# The fraction 49/98 is a curious fraction, \n",
    "# as an inexperienced mathematician in attempting to simplify \n",
    "# it may incorrectly believe that 49/98 = 4/8, which is correct, is obtained by cancelling the 9s.\n",
    "\n",
    "# We shall consider fractions like, 30/50 = 3/5, to be trivial examples.\n",
    "\n",
    "# There are exactly four non-trivial examples of this type of fraction, \n",
    "# less than one in value, and containing two digits in the numerator and denominator.\n",
    "\n",
    "# If the product of these four fractions is given in its lowest common terms, find the value of the denominator."
   ]
  },
  {
   "cell_type": "code",
   "execution_count": 9,
   "metadata": {},
   "outputs": [
    {
     "name": "stdout",
     "output_type": "stream",
     "text": [
      "100\n"
     ]
    }
   ],
   "source": [
    "# ref: https://github.com/nayuki/Project-Euler-solutions/blob/master/python/p033.py\n",
    "# m = m1*10 + m2\n",
    "# n = n1*10 + n2\n",
    "# m/n = (m1*10+m2)/(n1*10+n2)\n",
    "# Since m2!=0, n2!=0, if m2==n2, m1==n1, can't be true\n",
    "# m1 has to be different from m2\n",
    "# n1 has to be different from n1\n",
    "# Thus, 1. m1==n2, m2!=n1 2. m2==n1, m1!=n2\n",
    "# m2<n1 or m1<n2\n",
    "import math\n",
    "\n",
    "n = 1\n",
    "d = 1\n",
    "for i in range(10,100):\n",
    "    for j in range(i,100):\n",
    "        m1 = i // 10\n",
    "        m2 = i % 10\n",
    "        n1 = j // 10\n",
    "        n2 = j % 10\n",
    "        if (m1==n2 and i*n1==j*m2) or (m2==n1 and i*n2 == j*m1):\n",
    "            d *= j\n",
    "            n *= i\n",
    "ans = d // math.gcd(n,d)\n",
    "print(ans)\n",
    "        "
   ]
  }
 ],
 "metadata": {
  "kernelspec": {
   "display_name": "Python 3.8.10 64-bit ('3.8.10')",
   "language": "python",
   "name": "python3"
  },
  "language_info": {
   "codemirror_mode": {
    "name": "ipython",
    "version": 3
   },
   "file_extension": ".py",
   "mimetype": "text/x-python",
   "name": "python",
   "nbconvert_exporter": "python",
   "pygments_lexer": "ipython3",
   "version": "3.8.10"
  },
  "orig_nbformat": 4,
  "vscode": {
   "interpreter": {
    "hash": "676edac1ef9988138982468f4b102c32adc20290aa5b4039e9cf4d3af73ead8b"
   }
  }
 },
 "nbformat": 4,
 "nbformat_minor": 2
}
