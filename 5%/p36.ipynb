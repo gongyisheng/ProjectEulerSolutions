{
 "cells": [
  {
   "cell_type": "code",
   "execution_count": 1,
   "metadata": {},
   "outputs": [],
   "source": [
    "# Double-base palindromes\n",
    "# The decimal number, 585 = 1001001001(2) (binary), is palindromic in both bases.\n",
    "\n",
    "# Find the sum of all numbers, less than one million, which are palindromic in base 10 and base 2.\n",
    "\n",
    "# (Please note that the palindromic number, in either base, may not include leading zeros.)"
   ]
  },
  {
   "cell_type": "code",
   "execution_count": 20,
   "metadata": {},
   "outputs": [
    {
     "name": "stdout",
     "output_type": "stream",
     "text": [
      "872187\n"
     ]
    }
   ],
   "source": [
    "possible_numbers = []\n",
    "limit = 1_000_000\n",
    "bin_limit = bin(limit)\n",
    "len_limit = len(str(bin_limit)) - 2\n",
    "def dfsValidPalindromes(n):\n",
    "    if len(n) > len_limit:\n",
    "        return 0\n",
    "    if len(n) > 0 and n[0] != '0' and int(n,2) < limit:\n",
    "        possible_numbers.append(int(n,2))\n",
    "    dfsValidPalindromes(str(0)+n+str(0))\n",
    "    dfsValidPalindromes(str(1)+n+str(1))\n",
    "\n",
    "dfsValidPalindromes(\"\")\n",
    "dfsValidPalindromes(\"1\")\n",
    "dfsValidPalindromes(\"0\")\n",
    "\n",
    "def isPalindromes(n):\n",
    "    n = str(n)\n",
    "    rn = n[::-1]\n",
    "    return n == rn\n",
    "\n",
    "ans = 0\n",
    "for num in possible_numbers:\n",
    "    if isPalindromes(num):\n",
    "        ans += num\n",
    "print(ans)"
   ]
  }
 ],
 "metadata": {
  "kernelspec": {
   "display_name": "Python 3.8.10 64-bit ('3.8.10')",
   "language": "python",
   "name": "python3"
  },
  "language_info": {
   "codemirror_mode": {
    "name": "ipython",
    "version": 3
   },
   "file_extension": ".py",
   "mimetype": "text/x-python",
   "name": "python",
   "nbconvert_exporter": "python",
   "pygments_lexer": "ipython3",
   "version": "3.8.10"
  },
  "orig_nbformat": 4,
  "vscode": {
   "interpreter": {
    "hash": "676edac1ef9988138982468f4b102c32adc20290aa5b4039e9cf4d3af73ead8b"
   }
  }
 },
 "nbformat": 4,
 "nbformat_minor": 2
}
