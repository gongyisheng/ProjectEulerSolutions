{
 "cells": [
  {
   "cell_type": "code",
   "execution_count": 1,
   "metadata": {},
   "outputs": [],
   "source": [
    "# 1000-digit Fibonacci number\n",
    "# The Fibonacci sequence is defined by the recurrence relation:\n",
    "\n",
    "# Fn = Fn−1 + Fn−2, where F1 = 1 and F2 = 1.\n",
    "# Hence the first 12 terms will be:\n",
    "\n",
    "# F1 = 1\n",
    "# F2 = 1\n",
    "# F3 = 2\n",
    "# F4 = 3\n",
    "# F5 = 5\n",
    "# F6 = 8\n",
    "# F7 = 13\n",
    "# F8 = 21\n",
    "# F9 = 34\n",
    "# F10 = 55\n",
    "# F11 = 89\n",
    "# F12 = 144\n",
    "# The 12th term, F12, is the first term to contain three digits.\n",
    "\n",
    "# What is the index of the first term in the Fibonacci sequence to contain 1000 digits?"
   ]
  },
  {
   "cell_type": "code",
   "execution_count": 11,
   "metadata": {},
   "outputs": [
    {
     "name": "stdout",
     "output_type": "stream",
     "text": [
      "4782\n"
     ]
    }
   ],
   "source": [
    "def stringAdd(s1, s2):\n",
    "    p1 = len(s1) - 1\n",
    "    p2 = len(s2) - 1\n",
    "    sum = \"\"\n",
    "    isAboveTen = False\n",
    "    while p1 >= 0 or p2 >= 0 or isAboveTen:\n",
    "        n1 = int(s1[p1]) if p1 >= 0 else 0\n",
    "        n2 = int(s2[p2]) if p2 >= 0 else 0\n",
    "        digitSum = n1 + n2 + int(isAboveTen)\n",
    "        isAboveTen = digitSum >= 10\n",
    "        \n",
    "        if isAboveTen:\n",
    "            digitSum = digitSum - 10\n",
    "        \n",
    "        sum = str(digitSum) + sum\n",
    "        p1 = p1 - 1\n",
    "        p2 = p2 - 1\n",
    "    \n",
    "    return sum\n",
    "\n",
    "p0 = \"1\"\n",
    "p1 = \"1\"\n",
    "p2 = stringAdd(p0, p1)\n",
    "index = 3\n",
    "\n",
    "while len(p2) < 1000:\n",
    "    next = stringAdd(p1, p2)\n",
    "    p0 = p1\n",
    "    p1 = p2\n",
    "    p2 = next\n",
    "    index = index + 1\n",
    "\n",
    "print(index)"
   ]
  }
 ],
 "metadata": {
  "kernelspec": {
   "display_name": "Python 3.8.10 64-bit ('3.8.10')",
   "language": "python",
   "name": "python3"
  },
  "language_info": {
   "codemirror_mode": {
    "name": "ipython",
    "version": 3
   },
   "file_extension": ".py",
   "mimetype": "text/x-python",
   "name": "python",
   "nbconvert_exporter": "python",
   "pygments_lexer": "ipython3",
   "version": "3.8.10"
  },
  "orig_nbformat": 4,
  "vscode": {
   "interpreter": {
    "hash": "676edac1ef9988138982468f4b102c32adc20290aa5b4039e9cf4d3af73ead8b"
   }
  }
 },
 "nbformat": 4,
 "nbformat_minor": 2
}
