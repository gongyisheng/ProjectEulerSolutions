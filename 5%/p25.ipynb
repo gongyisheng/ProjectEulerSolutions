{
 "cells": [
  {
   "cell_type": "code",
   "execution_count": 1,
   "metadata": {},
   "outputs": [],
   "source": [
    "# 1000-digit Fibonacci number\n",
    "# The Fibonacci sequence is defined by the recurrence relation:\n",
    "\n",
    "# Fn = Fn−1 + Fn−2, where F1 = 1 and F2 = 1.\n",
    "# Hence the first 12 terms will be:\n",
    "\n",
    "# F1 = 1\n",
    "# F2 = 1\n",
    "# F3 = 2\n",
    "# F4 = 3\n",
    "# F5 = 5\n",
    "# F6 = 8\n",
    "# F7 = 13\n",
    "# F8 = 21\n",
    "# F9 = 34\n",
    "# F10 = 55\n",
    "# F11 = 89\n",
    "# F12 = 144\n",
    "# The 12th term, F12, is the first term to contain three digits.\n",
    "\n",
    "# What is the index of the first term in the Fibonacci sequence to contain 1000 digits?"
   ]
  },
  {
   "cell_type": "code",
   "execution_count": null,
   "metadata": {},
   "outputs": [],
   "source": []
  }
 ],
 "metadata": {
  "kernelspec": {
   "display_name": "Python 3.8.10 64-bit ('3.8.10')",
   "language": "python",
   "name": "python3"
  },
  "language_info": {
   "codemirror_mode": {
    "name": "ipython",
    "version": 3
   },
   "file_extension": ".py",
   "mimetype": "text/x-python",
   "name": "python",
   "nbconvert_exporter": "python",
   "pygments_lexer": "ipython3",
   "version": "3.8.10"
  },
  "orig_nbformat": 4,
  "vscode": {
   "interpreter": {
    "hash": "676edac1ef9988138982468f4b102c32adc20290aa5b4039e9cf4d3af73ead8b"
   }
  }
 },
 "nbformat": 4,
 "nbformat_minor": 2
}
