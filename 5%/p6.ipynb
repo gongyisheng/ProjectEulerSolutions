{
 "cells": [
  {
   "cell_type": "code",
   "execution_count": 1,
   "metadata": {},
   "outputs": [],
   "source": [
    "# Sum square difference\n",
    "# The sum of the squares of the first ten natural numbers is 1^2 + 2^2 + ... + 10^2 = 385,\n",
    "# The square of the sum of the first ten natural numbers is (1 + 2 + 3 + ... + 10)^2 = 3025,\n",
    "# Hence the difference between the sum of the squares of the first ten natural numbers and the square of the sum is 3025 - 385 = 2640.\n",
    "\n",
    "# Find the difference between the sum of the squares of the first one hundred natural numbers and the square of the sum."
   ]
  },
  {
   "cell_type": "code",
   "execution_count": 12,
   "metadata": {},
   "outputs": [
    {
     "name": "stdout",
     "output_type": "stream",
     "text": [
      "25164150.0\n"
     ]
    }
   ],
   "source": [
    "# The square of the sum of the first N natural numbers: ((1+N)*N/2)^2\n",
    "import math\n",
    "\n",
    "n = 100\n",
    "s1 = 0\n",
    "s2 = math.pow((1+n)*n/2,2)\n",
    "for i in range(1,n+1):\n",
    "    s1 = s1 + i*i\n",
    "\n",
    "print(s2-s1)"
   ]
  }
 ],
 "metadata": {
  "kernelspec": {
   "display_name": "Python 3.8.10 64-bit ('3.8.10')",
   "language": "python",
   "name": "python3"
  },
  "language_info": {
   "codemirror_mode": {
    "name": "ipython",
    "version": 3
   },
   "file_extension": ".py",
   "mimetype": "text/x-python",
   "name": "python",
   "nbconvert_exporter": "python",
   "pygments_lexer": "ipython3",
   "version": "3.8.10"
  },
  "orig_nbformat": 4,
  "vscode": {
   "interpreter": {
    "hash": "676edac1ef9988138982468f4b102c32adc20290aa5b4039e9cf4d3af73ead8b"
   }
  }
 },
 "nbformat": 4,
 "nbformat_minor": 2
}
