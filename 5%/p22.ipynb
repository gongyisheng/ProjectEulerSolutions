{
 "cells": [
  {
   "cell_type": "code",
   "execution_count": null,
   "metadata": {},
   "outputs": [],
   "source": [
    "# Names scores\n",
    "# Using names.txt (right click and 'Save Link/Target As...'), \n",
    "# a 46K text file containing over five-thousand first names, \n",
    "# begin by sorting it into alphabetical order. \n",
    "# Then working out the alphabetical value for each name, \n",
    "# multiply this value by its alphabetical position in the list to obtain a name score.\n",
    "\n",
    "# For example, when the list is sorted into alphabetical order, COLIN, \n",
    "# which is worth 3 + 15 + 12 + 9 + 14 = 53, is the 938th name in the list. \n",
    "# So, COLIN would obtain a score of 938 × 53 = 49714.\n",
    "\n",
    "# What is the total of all the name scores in the file?"
   ]
  },
  {
   "cell_type": "code",
   "execution_count": 16,
   "metadata": {},
   "outputs": [
    {
     "name": "stdout",
     "output_type": "stream",
     "text": [
      "871198282\n"
     ]
    }
   ],
   "source": [
    "f = open('../static/p022_names.txt')\n",
    "lines = f.readlines()\n",
    "f.close()\n",
    "\n",
    "data = lines[0].replace(\"\\\"\", \"\").split(\",\")\n",
    "data = sorted(data)\n",
    "\n",
    "ans = 0\n",
    "for i in range(len(data)):\n",
    "    worth = 0\n",
    "    for j in range(len(data[i])):\n",
    "        worth = worth + ord(data[i][j]) - ord('A') + 1\n",
    "    ans += worth * (i+1)\n",
    "\n",
    "print(ans)"
   ]
  }
 ],
 "metadata": {
  "kernelspec": {
   "display_name": "Python 3.8.10 64-bit ('3.8.10')",
   "language": "python",
   "name": "python3"
  },
  "language_info": {
   "codemirror_mode": {
    "name": "ipython",
    "version": 3
   },
   "file_extension": ".py",
   "mimetype": "text/x-python",
   "name": "python",
   "nbconvert_exporter": "python",
   "pygments_lexer": "ipython3",
   "version": "3.8.10"
  },
  "orig_nbformat": 4,
  "vscode": {
   "interpreter": {
    "hash": "676edac1ef9988138982468f4b102c32adc20290aa5b4039e9cf4d3af73ead8b"
   }
  }
 },
 "nbformat": 4,
 "nbformat_minor": 2
}
