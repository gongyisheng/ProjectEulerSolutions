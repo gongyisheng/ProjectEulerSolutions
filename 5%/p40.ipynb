{
 "cells": [
  {
   "cell_type": "code",
   "execution_count": 1,
   "metadata": {},
   "outputs": [],
   "source": [
    "# Champernowne's constant\n",
    "# An irrational decimal fraction is created by concatenating the positive integers:\n",
    "\n",
    "# 0.123456789101112131415161718192021...\n",
    "\n",
    "# It can be seen that the 12th digit of the fractional part is 1.\n",
    "\n",
    "# If dn represents the nth digit of the fractional part, find the value of the following expression.\n",
    "\n",
    "# d1 × d10 × d100 × d1000 × d10000 × d100000 × d1000000"
   ]
  },
  {
   "cell_type": "code",
   "execution_count": 19,
   "metadata": {},
   "outputs": [
    {
     "name": "stdout",
     "output_type": "stream",
     "text": [
      "210\n"
     ]
    }
   ],
   "source": [
    "def getNthDigit(n):\n",
    "    base = 1\n",
    "    digit = 1\n",
    "    total = 0\n",
    "    rest = n\n",
    "    while total < n:\n",
    "        rest = n - total\n",
    "        total += (base*10 - base) * digit\n",
    "        base *= 10\n",
    "        digit += 1\n",
    "    base = int(base/10)\n",
    "    digit = digit - 1\n",
    "    base += (rest-1)/digit\n",
    "    rest = (rest-1) % digit\n",
    "    return int(str(base)[rest])\n",
    "\n",
    "prod = 1\n",
    "base = 1\n",
    "for i in range(7):\n",
    "    prod *= getNthDigit(base)\n",
    "    base *= 10\n",
    "\n",
    "print(prod)\n",
    "    "
   ]
  }
 ],
 "metadata": {
  "kernelspec": {
   "display_name": "Python 3.8.10 64-bit ('3.8.10')",
   "language": "python",
   "name": "python3"
  },
  "language_info": {
   "codemirror_mode": {
    "name": "ipython",
    "version": 3
   },
   "file_extension": ".py",
   "mimetype": "text/x-python",
   "name": "python",
   "nbconvert_exporter": "python",
   "pygments_lexer": "ipython3",
   "version": "3.8.10"
  },
  "orig_nbformat": 4,
  "vscode": {
   "interpreter": {
    "hash": "676edac1ef9988138982468f4b102c32adc20290aa5b4039e9cf4d3af73ead8b"
   }
  }
 },
 "nbformat": 4,
 "nbformat_minor": 2
}
