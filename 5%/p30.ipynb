{
 "cells": [
  {
   "cell_type": "code",
   "execution_count": 1,
   "metadata": {},
   "outputs": [],
   "source": [
    "# Digit fifth powers\n",
    "# Surprisingly there are only three numbers that can be written as the sum of fourth powers of their digits:\n",
    "\n",
    "# 1634 = 1^4 + 6^4 + 3^4 + 4^4\n",
    "# 8208 = 8^4 + 2^4 + 0^4 + 8^4\n",
    "# 9474 = 9^4 + 4^4 + 7^4 + 4^4\n",
    "# As 1 = 1^4 is not a sum it is not included.\n",
    "\n",
    "# The sum of these numbers is 1634 + 8208 + 9474 = 19316.\n",
    "\n",
    "# Find the sum of all the numbers that can be written as the sum of fifth powers of their digits."
   ]
  },
  {
   "cell_type": "code",
   "execution_count": 4,
   "metadata": {},
   "outputs": [
    {
     "name": "stdout",
     "output_type": "stream",
     "text": [
      "443839\n"
     ]
    }
   ],
   "source": [
    "# x^5 is in [9^5, 1^5]\n",
    "# The number can't be too big since 9^5 is a 5-digit number\n",
    "import math\n",
    "\n",
    "min = 10\n",
    "max = int(math.pow(9,5)) * 6\n",
    "\n",
    "ans_list = []\n",
    "\n",
    "def calcFifthPowerDigitsSum(a):\n",
    "    a = str(a)\n",
    "    sum = 0\n",
    "    for i in range(len(a)):\n",
    "        sum = sum + math.pow(int(a[i]), 5)\n",
    "    return sum\n",
    "\n",
    "for i in range(min, max):\n",
    "    if i == calcFifthPowerDigitsSum(i):\n",
    "        ans_list.append(i)\n",
    "\n",
    "print(sum(ans_list))"
   ]
  }
 ],
 "metadata": {
  "kernelspec": {
   "display_name": "Python 3.8.10 64-bit ('3.8.10')",
   "language": "python",
   "name": "python3"
  },
  "language_info": {
   "codemirror_mode": {
    "name": "ipython",
    "version": 3
   },
   "file_extension": ".py",
   "mimetype": "text/x-python",
   "name": "python",
   "nbconvert_exporter": "python",
   "pygments_lexer": "ipython3",
   "version": "3.8.10"
  },
  "orig_nbformat": 4,
  "vscode": {
   "interpreter": {
    "hash": "676edac1ef9988138982468f4b102c32adc20290aa5b4039e9cf4d3af73ead8b"
   }
  }
 },
 "nbformat": 4,
 "nbformat_minor": 2
}
