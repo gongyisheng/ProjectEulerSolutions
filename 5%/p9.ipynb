{
 "cells": [
  {
   "cell_type": "code",
   "execution_count": null,
   "metadata": {},
   "outputs": [],
   "source": [
    "# A Pythagorean triplet is a set of three natural numbers, a < b < c, for which,\n",
    "# a2 + b2 = c2\n",
    "# For example, 32 + 42 = 9 + 16 = 25 = 52.\n",
    "\n",
    "# There exists exactly one Pythagorean triplet for which a + b + c = 1000.\n",
    "# Find the product abc."
   ]
  },
  {
   "cell_type": "code",
   "execution_count": 18,
   "metadata": {},
   "outputs": [
    {
     "name": "stdout",
     "output_type": "stream",
     "text": [
      "31875000\n"
     ]
    }
   ],
   "source": [
    "# Based on the fomular, we find that\n",
    "# a = (b-500)*1000/(b-1000)\n",
    "# a and b has to be integer\n",
    "ans = -1\n",
    "for i in range(2,500):\n",
    "    a1 = (500-i)*1000\n",
    "    a2 = 1000-i\n",
    "    if a1 % a2 == 0:\n",
    "        a = int(a1/a2)\n",
    "        b = i\n",
    "        c = 1000-a-b\n",
    "        c2 = a*a + b*b\n",
    "        if c*c == c2:\n",
    "            ans = a*b*c\n",
    "            break\n",
    "\n",
    "print(ans)"
   ]
  }
 ],
 "metadata": {
  "kernelspec": {
   "display_name": "Python 3.8.10 64-bit ('3.8.10')",
   "language": "python",
   "name": "python3"
  },
  "language_info": {
   "codemirror_mode": {
    "name": "ipython",
    "version": 3
   },
   "file_extension": ".py",
   "mimetype": "text/x-python",
   "name": "python",
   "nbconvert_exporter": "python",
   "pygments_lexer": "ipython3",
   "version": "3.8.10"
  },
  "orig_nbformat": 4,
  "vscode": {
   "interpreter": {
    "hash": "676edac1ef9988138982468f4b102c32adc20290aa5b4039e9cf4d3af73ead8b"
   }
  }
 },
 "nbformat": 4,
 "nbformat_minor": 2
}
