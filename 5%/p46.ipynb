{
 "cells": [
  {
   "cell_type": "code",
   "execution_count": null,
   "metadata": {},
   "outputs": [],
   "source": [
    "# Goldbach's other conjecture\n",
    "# It was proposed by Christian Goldbach that every odd composite number \n",
    "# can be written as the sum of a prime and twice a square.\n",
    "\n",
    "# 9 = 7 + 2×1^2\n",
    "# 15 = 7 + 2×2^2\n",
    "# 21 = 3 + 2×3^2\n",
    "# 25 = 7 + 2×3^2\n",
    "# 27 = 19 + 2×2^2\n",
    "# 33 = 31 + 2×1^2\n",
    "\n",
    "# It turns out that the conjecture was false.\n",
    "\n",
    "# What is the smallest odd composite that cannot be written as the sum of a prime and twice a square?"
   ]
  },
  {
   "cell_type": "code",
   "execution_count": 7,
   "metadata": {},
   "outputs": [
    {
     "name": "stdout",
     "output_type": "stream",
     "text": [
      "5777\n"
     ]
    }
   ],
   "source": [
    "import math\n",
    "\n",
    "prime_list = [2,3]\n",
    "prime_set = {1,2,3}\n",
    "curr = 4\n",
    "foundException = False\n",
    "\n",
    "while not foundException:\n",
    "    max_factor = int(math.sqrt(curr))\n",
    "    for factor in prime_list:\n",
    "        if factor > max_factor:\n",
    "            prime_list.append(curr)\n",
    "            prime_set.add(curr)\n",
    "            break\n",
    "        elif curr % factor == 0:\n",
    "            if curr % 2 != 0:\n",
    "                isException = True\n",
    "                for prime in prime_list:\n",
    "                    if (curr-prime) % 2 == 0:\n",
    "                        sq = int((curr-prime)/2)\n",
    "                        sqrt = int(math.sqrt(sq))\n",
    "                        if sq == sqrt**2:\n",
    "                            isException = False\n",
    "                            break\n",
    "                foundException = isException\n",
    "            break\n",
    "    curr = curr + 1\n",
    "\n",
    "ans = curr - 1\n",
    "print(ans)"
   ]
  }
 ],
 "metadata": {
  "kernelspec": {
   "display_name": "Python 3.8.10 64-bit ('3.8.10')",
   "language": "python",
   "name": "python3"
  },
  "language_info": {
   "codemirror_mode": {
    "name": "ipython",
    "version": 3
   },
   "file_extension": ".py",
   "mimetype": "text/x-python",
   "name": "python",
   "nbconvert_exporter": "python",
   "pygments_lexer": "ipython3",
   "version": "3.8.10"
  },
  "orig_nbformat": 4,
  "vscode": {
   "interpreter": {
    "hash": "676edac1ef9988138982468f4b102c32adc20290aa5b4039e9cf4d3af73ead8b"
   }
  }
 },
 "nbformat": 4,
 "nbformat_minor": 2
}
